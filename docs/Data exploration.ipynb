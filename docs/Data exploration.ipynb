{
 "cells": [
  {
   "cell_type": "code",
   "execution_count": 2,
   "metadata": {},
   "outputs": [],
   "source": [
    "import numpy as np\n",
    "import pandas as pd\n",
    "import matplotlib.pyplot as plt\n",
    "import seaborn as sns\n",
    "from IPython.display import Image\n",
    "from IPython.core.display import HTML \n",
    "%matplotlib inline \n",
    "%load_ext autoreload\n",
    "%autoreload 2"
   ]
  },
  {
   "cell_type": "code",
   "execution_count": 4,
   "metadata": {},
   "outputs": [],
   "source": [
    "train_data = pd.read_csv('train.csv')\n",
    "test_data = pd.read_csv('test.csv')\n",
    "submission = pd.read_csv(\"sample_submission.csv\")"
   ]
  },
  {
   "cell_type": "markdown",
   "metadata": {},
   "source": [
    "## Data size and content"
   ]
  },
  {
   "cell_type": "code",
   "execution_count": 5,
   "metadata": {},
   "outputs": [
    {
     "name": "stdout",
     "output_type": "stream",
     "text": [
      "Training data size (1225029, 3)\n",
      "test data size (117703, 2)\n"
     ]
    },
    {
     "data": {
      "text/html": [
       "<div>\n",
       "<style scoped>\n",
       "    .dataframe tbody tr th:only-of-type {\n",
       "        vertical-align: middle;\n",
       "    }\n",
       "\n",
       "    .dataframe tbody tr th {\n",
       "        vertical-align: top;\n",
       "    }\n",
       "\n",
       "    .dataframe thead th {\n",
       "        text-align: right;\n",
       "    }\n",
       "</style>\n",
       "<table border=\"1\" class=\"dataframe\">\n",
       "  <thead>\n",
       "    <tr style=\"text-align: right;\">\n",
       "      <th></th>\n",
       "      <th>id</th>\n",
       "      <th>landmarks</th>\n",
       "    </tr>\n",
       "  </thead>\n",
       "  <tbody>\n",
       "    <tr>\n",
       "      <th>0</th>\n",
       "      <td>000088da12d664db</td>\n",
       "      <td>8815 0.03</td>\n",
       "    </tr>\n",
       "    <tr>\n",
       "      <th>1</th>\n",
       "      <td>0001623c6d808702</td>\n",
       "      <td>7249 0.61</td>\n",
       "    </tr>\n",
       "    <tr>\n",
       "      <th>2</th>\n",
       "      <td>0001bbb682d45002</td>\n",
       "      <td>5328 0.5</td>\n",
       "    </tr>\n",
       "    <tr>\n",
       "      <th>3</th>\n",
       "      <td>0002362830cfe3a3</td>\n",
       "      <td>4188 0.96</td>\n",
       "    </tr>\n",
       "    <tr>\n",
       "      <th>4</th>\n",
       "      <td>000270c9100de789</td>\n",
       "      <td>10506 0.82</td>\n",
       "    </tr>\n",
       "  </tbody>\n",
       "</table>\n",
       "</div>"
      ],
      "text/plain": [
       "                 id   landmarks\n",
       "0  000088da12d664db   8815 0.03\n",
       "1  0001623c6d808702   7249 0.61\n",
       "2  0001bbb682d45002    5328 0.5\n",
       "3  0002362830cfe3a3   4188 0.96\n",
       "4  000270c9100de789  10506 0.82"
      ]
     },
     "execution_count": 5,
     "metadata": {},
     "output_type": "execute_result"
    }
   ],
   "source": [
    "print(\"Training data size\",train_data.shape)\n",
    "print(\"test data size\",test_data.shape)\n",
    "submission.head()"
   ]
  },
  {
   "cell_type": "code",
   "execution_count": 7,
   "metadata": {},
   "outputs": [
    {
     "data": {
      "text/html": [
       "<div>\n",
       "<style scoped>\n",
       "    .dataframe tbody tr th:only-of-type {\n",
       "        vertical-align: middle;\n",
       "    }\n",
       "\n",
       "    .dataframe tbody tr th {\n",
       "        vertical-align: top;\n",
       "    }\n",
       "\n",
       "    .dataframe thead th {\n",
       "        text-align: right;\n",
       "    }\n",
       "</style>\n",
       "<table border=\"1\" class=\"dataframe\">\n",
       "  <thead>\n",
       "    <tr style=\"text-align: right;\">\n",
       "      <th></th>\n",
       "      <th>id</th>\n",
       "      <th>url</th>\n",
       "      <th>landmark_id</th>\n",
       "    </tr>\n",
       "  </thead>\n",
       "  <tbody>\n",
       "    <tr>\n",
       "      <th>0</th>\n",
       "      <td>cacf8152e2d2ae60</td>\n",
       "      <td>http://static.panoramio.com/photos/original/70...</td>\n",
       "      <td>4676</td>\n",
       "    </tr>\n",
       "    <tr>\n",
       "      <th>1</th>\n",
       "      <td>0a58358a2afd3e4e</td>\n",
       "      <td>http://lh6.ggpht.com/-igpT6wu0mIA/ROV8HnUuABI/...</td>\n",
       "      <td>6651</td>\n",
       "    </tr>\n",
       "    <tr>\n",
       "      <th>2</th>\n",
       "      <td>6b2bb500b6a38aa0</td>\n",
       "      <td>http://lh6.ggpht.com/-vKr5G5MEusk/SR6r6SJi6mI/...</td>\n",
       "      <td>11284</td>\n",
       "    </tr>\n",
       "    <tr>\n",
       "      <th>3</th>\n",
       "      <td>b399f09dee9c3c67</td>\n",
       "      <td>https://lh3.googleusercontent.com/-LOW2cjAqubA...</td>\n",
       "      <td>8429</td>\n",
       "    </tr>\n",
       "    <tr>\n",
       "      <th>4</th>\n",
       "      <td>19ace29d77a5be66</td>\n",
       "      <td>https://lh5.googleusercontent.com/-tnmSXwQcWL8...</td>\n",
       "      <td>6231</td>\n",
       "    </tr>\n",
       "  </tbody>\n",
       "</table>\n",
       "</div>"
      ],
      "text/plain": [
       "                 id                                                url  \\\n",
       "0  cacf8152e2d2ae60  http://static.panoramio.com/photos/original/70...   \n",
       "1  0a58358a2afd3e4e  http://lh6.ggpht.com/-igpT6wu0mIA/ROV8HnUuABI/...   \n",
       "2  6b2bb500b6a38aa0  http://lh6.ggpht.com/-vKr5G5MEusk/SR6r6SJi6mI/...   \n",
       "3  b399f09dee9c3c67  https://lh3.googleusercontent.com/-LOW2cjAqubA...   \n",
       "4  19ace29d77a5be66  https://lh5.googleusercontent.com/-tnmSXwQcWL8...   \n",
       "\n",
       "   landmark_id  \n",
       "0         4676  \n",
       "1         6651  \n",
       "2        11284  \n",
       "3         8429  \n",
       "4         6231  "
      ]
     },
     "execution_count": 7,
     "metadata": {},
     "output_type": "execute_result"
    }
   ],
   "source": [
    "train_data.head()"
   ]
  },
  {
   "cell_type": "code",
   "execution_count": 8,
   "metadata": {},
   "outputs": [
    {
     "data": {
      "text/html": [
       "<div>\n",
       "<style scoped>\n",
       "    .dataframe tbody tr th:only-of-type {\n",
       "        vertical-align: middle;\n",
       "    }\n",
       "\n",
       "    .dataframe tbody tr th {\n",
       "        vertical-align: top;\n",
       "    }\n",
       "\n",
       "    .dataframe thead th {\n",
       "        text-align: right;\n",
       "    }\n",
       "</style>\n",
       "<table border=\"1\" class=\"dataframe\">\n",
       "  <thead>\n",
       "    <tr style=\"text-align: right;\">\n",
       "      <th></th>\n",
       "      <th>id</th>\n",
       "      <th>url</th>\n",
       "    </tr>\n",
       "  </thead>\n",
       "  <tbody>\n",
       "    <tr>\n",
       "      <th>0</th>\n",
       "      <td>000088da12d664db</td>\n",
       "      <td>https://lh3.googleusercontent.com/-k45wfamuhT8...</td>\n",
       "    </tr>\n",
       "    <tr>\n",
       "      <th>1</th>\n",
       "      <td>0001623c6d808702</td>\n",
       "      <td>https://lh3.googleusercontent.com/-OQ0ywv8KVIA...</td>\n",
       "    </tr>\n",
       "    <tr>\n",
       "      <th>2</th>\n",
       "      <td>0001bbb682d45002</td>\n",
       "      <td>https://lh3.googleusercontent.com/-kloLenz1xZk...</td>\n",
       "    </tr>\n",
       "    <tr>\n",
       "      <th>3</th>\n",
       "      <td>0002362830cfe3a3</td>\n",
       "      <td>https://lh3.googleusercontent.com/-N6z79jNZYTg...</td>\n",
       "    </tr>\n",
       "    <tr>\n",
       "      <th>4</th>\n",
       "      <td>000270c9100de789</td>\n",
       "      <td>https://lh3.googleusercontent.com/-keriHaVOq1U...</td>\n",
       "    </tr>\n",
       "  </tbody>\n",
       "</table>\n",
       "</div>"
      ],
      "text/plain": [
       "                 id                                                url\n",
       "0  000088da12d664db  https://lh3.googleusercontent.com/-k45wfamuhT8...\n",
       "1  0001623c6d808702  https://lh3.googleusercontent.com/-OQ0ywv8KVIA...\n",
       "2  0001bbb682d45002  https://lh3.googleusercontent.com/-kloLenz1xZk...\n",
       "3  0002362830cfe3a3  https://lh3.googleusercontent.com/-N6z79jNZYTg...\n",
       "4  000270c9100de789  https://lh3.googleusercontent.com/-keriHaVOq1U..."
      ]
     },
     "execution_count": 8,
     "metadata": {},
     "output_type": "execute_result"
    }
   ],
   "source": [
    "test_data.head()"
   ]
  },
  {
   "cell_type": "code",
   "execution_count": 61,
   "metadata": {},
   "outputs": [
    {
     "name": "stdout",
     "output_type": "stream",
     "text": [
      "Number of landmarks in the dataset: 14951\n",
      "Number of unique images in the training set: 1225029\n",
      "Number of unique images in the test set: 117703\n",
      "Total images in the dataset: 1342732\n",
      "Percentage of training data: 91.23406606828466\n",
      "Percentage of training data: 8.765933931715338\n",
      "Number of duplicates between test and training set: 0\n"
     ]
    }
   ],
   "source": [
    "n_train = len(train_data.id.unique())\n",
    "n_test = len(test_data.id.unique())\n",
    "n_landmarks = len(train_data.landmark_id.unique())\n",
    "n_total = len(train_data.id.unique()) + len(test_data.id.unique())\n",
    "concatenated_ids = pd.concat([train_data.id, test_data.id])\n",
    "n_images = len(concatenated_ids.unique())\n",
    "print('Number of landmarks in the dataset:', n_landmarks)\n",
    "print('Number of unique images in the training set:', n_train)\n",
    "print('Number of unique images in the test set:', n_test)\n",
    "print('Total images in the dataset:', n_total)\n",
    "print('Percentage of training data:', n_train*100./n_total)\n",
    "print('Percentage of training data:', n_test*100./n_total)\n",
    "print(\"Number of duplicates between test and training set:\", n_train+n_test-n_images)"
   ]
  },
  {
   "cell_type": "markdown",
   "metadata": {},
   "source": [
    "## Check for missing data"
   ]
  },
  {
   "cell_type": "code",
   "execution_count": 28,
   "metadata": {},
   "outputs": [
    {
     "data": {
      "text/html": [
       "<div>\n",
       "<style scoped>\n",
       "    .dataframe tbody tr th:only-of-type {\n",
       "        vertical-align: middle;\n",
       "    }\n",
       "\n",
       "    .dataframe tbody tr th {\n",
       "        vertical-align: top;\n",
       "    }\n",
       "\n",
       "    .dataframe thead th {\n",
       "        text-align: right;\n",
       "    }\n",
       "</style>\n",
       "<table border=\"1\" class=\"dataframe\">\n",
       "  <thead>\n",
       "    <tr style=\"text-align: right;\">\n",
       "      <th></th>\n",
       "      <th>Missing</th>\n",
       "      <th>All</th>\n",
       "    </tr>\n",
       "  </thead>\n",
       "  <tbody>\n",
       "    <tr>\n",
       "      <th>id</th>\n",
       "      <td>0</td>\n",
       "      <td>1225029</td>\n",
       "    </tr>\n",
       "    <tr>\n",
       "      <th>url</th>\n",
       "      <td>0</td>\n",
       "      <td>1225029</td>\n",
       "    </tr>\n",
       "    <tr>\n",
       "      <th>landmark_id</th>\n",
       "      <td>0</td>\n",
       "      <td>1225029</td>\n",
       "    </tr>\n",
       "  </tbody>\n",
       "</table>\n",
       "</div>"
      ],
      "text/plain": [
       "             Missing      All\n",
       "id                 0  1225029\n",
       "url                0  1225029\n",
       "landmark_id        0  1225029"
      ]
     },
     "execution_count": 28,
     "metadata": {},
     "output_type": "execute_result"
    }
   ],
   "source": [
    "missing = train_data.isnull().sum()\n",
    "all_val = train_data.count()\n",
    "\n",
    "missing_train_df = pd.concat([missing, all_val], axis=1, keys=['Missing', 'All'])\n",
    "missing_train_df"
   ]
  },
  {
   "cell_type": "code",
   "execution_count": 29,
   "metadata": {},
   "outputs": [
    {
     "data": {
      "text/html": [
       "<div>\n",
       "<style scoped>\n",
       "    .dataframe tbody tr th:only-of-type {\n",
       "        vertical-align: middle;\n",
       "    }\n",
       "\n",
       "    .dataframe tbody tr th {\n",
       "        vertical-align: top;\n",
       "    }\n",
       "\n",
       "    .dataframe thead th {\n",
       "        text-align: right;\n",
       "    }\n",
       "</style>\n",
       "<table border=\"1\" class=\"dataframe\">\n",
       "  <thead>\n",
       "    <tr style=\"text-align: right;\">\n",
       "      <th></th>\n",
       "      <th>Missing</th>\n",
       "      <th>All</th>\n",
       "    </tr>\n",
       "  </thead>\n",
       "  <tbody>\n",
       "    <tr>\n",
       "      <th>id</th>\n",
       "      <td>0</td>\n",
       "      <td>117703</td>\n",
       "    </tr>\n",
       "    <tr>\n",
       "      <th>url</th>\n",
       "      <td>0</td>\n",
       "      <td>117703</td>\n",
       "    </tr>\n",
       "  </tbody>\n",
       "</table>\n",
       "</div>"
      ],
      "text/plain": [
       "     Missing     All\n",
       "id         0  117703\n",
       "url        0  117703"
      ]
     },
     "execution_count": 29,
     "metadata": {},
     "output_type": "execute_result"
    }
   ],
   "source": [
    "missing = test_data.isnull().sum()\n",
    "all_val = test_data.count()\n",
    "\n",
    "missing_test_df = pd.concat([missing, all_val], axis=1, keys=['Missing', 'All'])\n",
    "missing_test_df"
   ]
  },
  {
   "cell_type": "markdown",
   "metadata": {},
   "source": [
    "No missing points from training or test"
   ]
  },
  {
   "cell_type": "markdown",
   "metadata": {},
   "source": [
    "## Top landmarks"
   ]
  },
  {
   "cell_type": "code",
   "execution_count": 20,
   "metadata": {},
   "outputs": [],
   "source": [
    "def Top_ids(data, k=10):\n",
    "    temp = data.landmark_id.value_counts().head(k)\n",
    "    return list(temp.index)"
   ]
  },
  {
   "cell_type": "code",
   "execution_count": 30,
   "metadata": {},
   "outputs": [
    {
     "data": {
      "text/plain": [
       "[9633, 6051, 6599, 9779, 2061]"
      ]
     },
     "execution_count": 30,
     "metadata": {},
     "output_type": "execute_result"
    }
   ],
   "source": [
    "# Top 5 landmarks\n",
    "Top_ids(train_data, 5)"
   ]
  },
  {
   "cell_type": "code",
   "execution_count": 31,
   "metadata": {},
   "outputs": [
    {
     "data": {
      "text/html": [
       "<div>\n",
       "<style scoped>\n",
       "    .dataframe tbody tr th:only-of-type {\n",
       "        vertical-align: middle;\n",
       "    }\n",
       "\n",
       "    .dataframe tbody tr th {\n",
       "        vertical-align: top;\n",
       "    }\n",
       "\n",
       "    .dataframe thead th {\n",
       "        text-align: right;\n",
       "    }\n",
       "</style>\n",
       "<table border=\"1\" class=\"dataframe\">\n",
       "  <thead>\n",
       "    <tr style=\"text-align: right;\">\n",
       "      <th></th>\n",
       "      <th>landmark_id</th>\n",
       "      <th>count</th>\n",
       "    </tr>\n",
       "  </thead>\n",
       "  <tbody>\n",
       "    <tr>\n",
       "      <th>0</th>\n",
       "      <td>9633</td>\n",
       "      <td>50337</td>\n",
       "    </tr>\n",
       "    <tr>\n",
       "      <th>1</th>\n",
       "      <td>6051</td>\n",
       "      <td>50148</td>\n",
       "    </tr>\n",
       "    <tr>\n",
       "      <th>2</th>\n",
       "      <td>6599</td>\n",
       "      <td>23415</td>\n",
       "    </tr>\n",
       "    <tr>\n",
       "      <th>3</th>\n",
       "      <td>9779</td>\n",
       "      <td>18471</td>\n",
       "    </tr>\n",
       "    <tr>\n",
       "      <th>4</th>\n",
       "      <td>2061</td>\n",
       "      <td>13271</td>\n",
       "    </tr>\n",
       "    <tr>\n",
       "      <th>5</th>\n",
       "      <td>5554</td>\n",
       "      <td>11147</td>\n",
       "    </tr>\n",
       "    <tr>\n",
       "      <th>6</th>\n",
       "      <td>6651</td>\n",
       "      <td>9508</td>\n",
       "    </tr>\n",
       "    <tr>\n",
       "      <th>7</th>\n",
       "      <td>6696</td>\n",
       "      <td>9222</td>\n",
       "    </tr>\n",
       "  </tbody>\n",
       "</table>\n",
       "</div>"
      ],
      "text/plain": [
       "   landmark_id  count\n",
       "0         9633  50337\n",
       "1         6051  50148\n",
       "2         6599  23415\n",
       "3         9779  18471\n",
       "4         2061  13271\n",
       "5         5554  11147\n",
       "6         6651   9508\n",
       "7         6696   9222"
      ]
     },
     "execution_count": 31,
     "metadata": {},
     "output_type": "execute_result"
    }
   ],
   "source": [
    "# Top landmarks with counts\n",
    "temp = pd.DataFrame(train_data.landmark_id.value_counts().head(8))\n",
    "temp.reset_index(inplace=True)\n",
    "temp.columns = ['landmark_id','count']\n",
    "temp"
   ]
  },
  {
   "cell_type": "code",
   "execution_count": 32,
   "metadata": {},
   "outputs": [
    {
     "data": {
      "image/png": "[encoded data removed]",
      "text/plain": [
       "<Figure size 648x576 with 1 Axes>"
      ]
     },
     "metadata": {},
     "output_type": "display_data"
    }
   ],
   "source": [
    "# Histogram of most common ids\n",
    "plt.figure(figsize = (9, 8))\n",
    "plt.title('Most frequent landmarks')\n",
    "sns.set_color_codes(\"pastel\")\n",
    "sns.barplot(x=\"landmark_id\", y=\"count\", data=temp,\n",
    "            label=\"Count\")\n",
    "plt.show()"
   ]
  },
  {
   "cell_type": "markdown",
   "metadata": {},
   "source": [
    "## Least common landmarks"
   ]
  },
  {
   "cell_type": "code",
   "execution_count": 37,
   "metadata": {},
   "outputs": [
    {
     "data": {
      "text/plain": [
       "10007    1\n",
       "2683     1\n",
       "4753     1\n",
       "6261     1\n",
       "4144     1\n",
       "1527     1\n",
       "6025     1\n",
       "4334     1\n",
       "5865     1\n",
       "8381     1\n",
       "Name: landmark_id, dtype: int64"
      ]
     },
     "execution_count": 37,
     "metadata": {},
     "output_type": "execute_result"
    }
   ],
   "source": [
    "train_data.landmark_id.value_counts().tail(10)"
   ]
  },
  {
   "cell_type": "code",
   "execution_count": 53,
   "metadata": {},
   "outputs": [
    {
     "name": "stdout",
     "output_type": "stream",
     "text": [
      "Number of landmarks with only 1 image: 159\n",
      "Number of landmarks with less than 100 images: 12915\n"
     ]
    }
   ],
   "source": [
    "print('Number of landmarks with only 1 image:', sum(train_data.landmark_id.value_counts() == 1))\n",
    "print('Number of landmarks with less than 100 images:', sum(train_data.landmark_id.value_counts() < 100))"
   ]
  },
  {
   "cell_type": "markdown",
   "metadata": {},
   "source": [
    "## Close look at the images"
   ]
  },
  {
   "cell_type": "code",
   "execution_count": 56,
   "metadata": {},
   "outputs": [],
   "source": [
    "def displayLandmarkImages(urls):\n",
    "    \n",
    "    imageStyle = \"height: 60px; margin: 2px; float: left; border: 1px solid blue;\"\n",
    "    imagesList = ''.join([f\"<img style='{imageStyle}' src='{u}' />\" for _, u in urls.iteritems()])\n",
    "\n",
    "    display(HTML(imagesList))\n",
    "    \n",
    "    \n",
    "def displayLandmarkImagesLarge(urls):\n",
    "    \n",
    "    imageStyle = \"height: 100px; margin: 2px; float: left; border: 1px solid blue;\"\n",
    "    imagesList = ''.join([f\"<img style='{imageStyle}' src='{u}' />\" for _, u in urls.iteritems()])\n",
    "\n",
    "    display(HTML(imagesList))"
   ]
  },
  {
   "cell_type": "code",
   "execution_count": 58,
   "metadata": {},
   "outputs": [
    {
     "data": {
      "text/html": [
       "<img style='height: 60px; margin: 2px; float: left; border: 1px solid blue;' src='https://lh3.googleusercontent.com/-EpNtXQntMr0/TEBZNbQVRSI/AAAAAAAAAEM/uWSSD4_7TeA/s1600/' /><img style='height: 60px; margin: 2px; float: left; border: 1px solid blue;' src='http://lh5.ggpht.com/-6Wmb6BhrgBA/RYblKeg9KwI/AAAAAAAABl4/PWvTvwiHwGw/s1600/' /><img style='height: 60px; margin: 2px; float: left; border: 1px solid blue;' src='https://lh5.googleusercontent.com/-odJcL7Yisno/SIGXefDmX3I/AAAAAAAAAVk/hyzxGJZ-kbo/s1600/' /><img style='height: 60px; margin: 2px; float: left; border: 1px solid blue;' src='http://lh4.ggpht.com/-O3g8YoEouW0/Sru6bx818zI/AAAAAAAAF04/Q1uyrne5T1E/s1600/' /><img style='height: 60px; margin: 2px; float: left; border: 1px solid blue;' src='http://lh6.ggpht.com/-amq8SzD5TvI/SvosmRqKHFI/AAAAAAAAAJw/MHAVt2TBKXo/s1600/' /><img style='height: 60px; margin: 2px; float: left; border: 1px solid blue;' src='https://lh6.googleusercontent.com/-SWKFGslUrMU/S4_Iq0oL45I/AAAAAAAABTg/pjyngCpPc1w/s1600/' /><img style='height: 60px; margin: 2px; float: left; border: 1px solid blue;' src='http://lh5.ggpht.com/-zMzoWUhpX_k/TrqWpYVRVzI/AAAAAAAAAQc/nsKpveiRWn4/s1600/' /><img style='height: 60px; margin: 2px; float: left; border: 1px solid blue;' src='https://lh6.googleusercontent.com/-ae_UPhdDKtQ/SsCyZ_qSwzI/AAAAAAAAB2g/IiONicNWCe0/s1600/' /><img style='height: 60px; margin: 2px; float: left; border: 1px solid blue;' src='http://lh5.ggpht.com/-Ljgz8iSVWQ8/SnxZv2iN-pI/AAAAAAAABKo/DHUbNk9vJ_o/s1600/' /><img style='height: 60px; margin: 2px; float: left; border: 1px solid blue;' src='https://lh5.googleusercontent.com/-3uEcnge6L0Q/TL_9cXOMVgI/AAAAAAAAAFg/Rd3843Yq0Ko/s1600/' /><img style='height: 60px; margin: 2px; float: left; border: 1px solid blue;' src='https://lh4.googleusercontent.com/-VNhZp05p3HA/UO7J7Qd4lJI/AAAAAAAAH9Q/vCWCCsPtslg/s1600/' /><img style='height: 60px; margin: 2px; float: left; border: 1px solid blue;' src='http://lh4.ggpht.com/-2_IazExfUUg/RjJhAXWo8pI/AAAAAAAAFIM/R53dgGda2Yc/s1600/' /><img style='height: 60px; margin: 2px; float: left; border: 1px solid blue;' src='http://lh5.ggpht.com/-hxZQ-LH7C0M/SL4qnAK-amI/AAAAAAAAAFc/EHgjIvRHyJg/s1600/' /><img style='height: 60px; margin: 2px; float: left; border: 1px solid blue;' src='https://lh3.googleusercontent.com/-lCtFchIarws/UHDXshgQ1ZI/AAAAAAAAAMg/ZpWGQHjkaqA/s1600/' /><img style='height: 60px; margin: 2px; float: left; border: 1px solid blue;' src='http://lh3.ggpht.com/-56tZkHWo6FU/TmNPX2tsUmI/AAAAAAAAAF4/vbsmm1_mHxE/s1600/' /><img style='height: 60px; margin: 2px; float: left; border: 1px solid blue;' src='https://lh3.googleusercontent.com/-Fs1H1bd6714/So6Jo1GBo3I/AAAAAAAACDg/a8srKagP3uU/s1600/' /><img style='height: 60px; margin: 2px; float: left; border: 1px solid blue;' src='https://lh6.googleusercontent.com/-2DTx9vo0sRk/SwnchzyVjnI/AAAAAAAAAEY/pMqSJd0ykwU/s1600/' /><img style='height: 60px; margin: 2px; float: left; border: 1px solid blue;' src='https://lh6.googleusercontent.com/-O0wupgGuHEc/SCXlZSNnonI/AAAAAAAACAs/ckG7U5uqByE/s1600/' /><img style='height: 60px; margin: 2px; float: left; border: 1px solid blue;' src='https://lh3.googleusercontent.com/-6vCRH2jCr9A/TSrahk0m_NI/AAAAAAAAEq8/jSEZoyavdYs/s1600/' /><img style='height: 60px; margin: 2px; float: left; border: 1px solid blue;' src='http://lh3.ggpht.com/-LrPxHg2gcws/RzhlJVE1SMI/AAAAAAAAMGc/5chfdQkLgOo/s1600/' /><img style='height: 60px; margin: 2px; float: left; border: 1px solid blue;' src='http://lh5.ggpht.com/-E4e8Zt0IQN8/SDWM-4RMGBI/AAAAAAAABYw/V9wMx36v62s/s1600/' /><img style='height: 60px; margin: 2px; float: left; border: 1px solid blue;' src='https://lh4.googleusercontent.com/-Ta4PqYOuuA4/S4rT6UPlHSE/AAAAAAAACgQ/HvqK_5YRjOk/s144-c/' /><img style='height: 60px; margin: 2px; float: left; border: 1px solid blue;' src='http://mw2.google.com/mw-panoramio/photos/medium/10392418.jpg' /><img style='height: 60px; margin: 2px; float: left; border: 1px solid blue;' src='http://lh6.ggpht.com/-BT-woG9AoN0/S0KbL7HEXcI/AAAAAAAACSU/j6U5gTx4GQY/s1600/' /><img style='height: 60px; margin: 2px; float: left; border: 1px solid blue;' src='https://lh4.googleusercontent.com/-Qt6rI3x7gaY/UVFtw0IvI_I/AAAAAAAAHU4/jipqTLdxtjU/s1600/' /><img style='height: 60px; margin: 2px; float: left; border: 1px solid blue;' src='https://lh5.googleusercontent.com/-p4bwdsd5TBQ/S8kzozts5YI/AAAAAAAAA54/4FLqz30Qihg/rj/' /><img style='height: 60px; margin: 2px; float: left; border: 1px solid blue;' src='https://lh5.googleusercontent.com/-h19yjWaN6xY/TKM_nguXf1I/AAAAAAAAOF8/HrLi44gKh8Y/s1600/' /><img style='height: 60px; margin: 2px; float: left; border: 1px solid blue;' src='https://lh5.googleusercontent.com/-UxUf8u8GhfY/Tn86vqaX3zI/AAAAAAAABko/-XXfDWEgEcU/s1600/' /><img style='height: 60px; margin: 2px; float: left; border: 1px solid blue;' src='https://lh4.googleusercontent.com/-VttbCq35eWg/SWAHqIDXDPI/AAAAAAAACEQ/KWegdxkyubc/s1600/' /><img style='height: 60px; margin: 2px; float: left; border: 1px solid blue;' src='http://mw2.google.com/mw-panoramio/photos/medium/20723698.jpg' /><img style='height: 60px; margin: 2px; float: left; border: 1px solid blue;' src='http://lh4.ggpht.com/-cTL2Iaaa95c/S4EASNtqhFI/AAAAAAAABcA/_yU_U-v_Z1w/s1600/' /><img style='height: 60px; margin: 2px; float: left; border: 1px solid blue;' src='http://lh4.ggpht.com/-fnhovA8KDCA/S7DGwEGDkBI/AAAAAAAAJEc/xw7NQ5P3wbg/s1600/' /><img style='height: 60px; margin: 2px; float: left; border: 1px solid blue;' src='https://lh5.googleusercontent.com/-mz8_aOHyYU4/TAt9lu0ji2I/AAAAAAAAAVY/FIrKE4ycVgM/s1600/' /><img style='height: 60px; margin: 2px; float: left; border: 1px solid blue;' src='http://lh5.ggpht.com/-SGEpAgPwYHI/R_RHDw3dL1I/AAAAAAAAA70/CqSOLIOmUQ0/s1600/' /><img style='height: 60px; margin: 2px; float: left; border: 1px solid blue;' src='http://lh6.ggpht.com/-2o3qggzKhzQ/TWXbisP6S7I/AAAAAAAABGk/eUeU0ykSjrQ/rj/' /><img style='height: 60px; margin: 2px; float: left; border: 1px solid blue;' src='https://lh5.googleusercontent.com/-zZzK9nQDNzg/UgJXjYP5tII/AAAAAAAAAW4/TqRi3eIyNdc/s1600/' /><img style='height: 60px; margin: 2px; float: left; border: 1px solid blue;' src='http://lh5.ggpht.com/-dz5JmDOZmbg/SLPrcA85UuI/AAAAAAAAAOo/W4739asdNUA/s1600/' /><img style='height: 60px; margin: 2px; float: left; border: 1px solid blue;' src='https://lh3.googleusercontent.com/-0wbE9ikN3qw/TIcDOtJRyYI/AAAAAAAACH4/3DUqJe1Pgs0/rj/' /><img style='height: 60px; margin: 2px; float: left; border: 1px solid blue;' src='http://lh5.ggpht.com/-o6P6vdM-bl8/S5wlCHnICFI/AAAAAAAABA4/3MMvJkoohcA/s1600/' /><img style='height: 60px; margin: 2px; float: left; border: 1px solid blue;' src='https://lh5.googleusercontent.com/--yu9g51OV50/SpVW1XwOEBI/AAAAAAAAA3M/clcNR66z3TE/s1600/' /><img style='height: 60px; margin: 2px; float: left; border: 1px solid blue;' src='http://lh3.ggpht.com/-0sBa6R-imXg/Td0OjzI65bI/AAAAAAAAAXg/6v-ExzdZdpA/s1600/' /><img style='height: 60px; margin: 2px; float: left; border: 1px solid blue;' src='https://lh6.googleusercontent.com/-M131Y8PWslA/ULTZJyWWfuI/AAAAAAAAG3c/d8tsMGkzvqs/s1600/' /><img style='height: 60px; margin: 2px; float: left; border: 1px solid blue;' src='https://lh6.googleusercontent.com/-6es4r-P0zA4/S4sySjCY76I/AAAAAAAAAFc/03GKo7wXUmI/s1600/' /><img style='height: 60px; margin: 2px; float: left; border: 1px solid blue;' src='http://lh3.ggpht.com/-_92jRGRULHk/SaY8kuGSf4I/AAAAAAAAAWA/kvXP9LWhjhs/s1600/' /><img style='height: 60px; margin: 2px; float: left; border: 1px solid blue;' src='https://lh6.googleusercontent.com/-7u4xvkvYwS4/TKM_lETu2XI/AAAAAAAAOFQ/n6QrtSxJZjE/s1600/' /><img style='height: 60px; margin: 2px; float: left; border: 1px solid blue;' src='http://lh5.ggpht.com/-V-a3yxTB6pU/SUg7edpPL_I/AAAAAAAAAZY/XeKeAOC1ZXM/s1600/' /><img style='height: 60px; margin: 2px; float: left; border: 1px solid blue;' src='https://lh3.googleusercontent.com/-rwRxk5N4sac/UvmZ1uVPtAI/AAAAAAAADXs/sfeSW5FAa00/s1600/' /><img style='height: 60px; margin: 2px; float: left; border: 1px solid blue;' src='http://lh3.ggpht.com/-xkPuOT_MRJM/S3WpUwOmLJI/AAAAAAAANBg/F63PzlQcP04/s1600/' /><img style='height: 60px; margin: 2px; float: left; border: 1px solid blue;' src='http://lh5.ggpht.com/-wy6ELh5MGWI/S4vwDJG5UtI/AAAAAAAADC0/lDuWg8YlFc0/s1600/' /><img style='height: 60px; margin: 2px; float: left; border: 1px solid blue;' src='https://lh3.googleusercontent.com/-u0mMgECC2Vk/ULg9eGW6-dI/AAAAAAAAADM/ublXPqdEf4o/s1600/' />"
      ],
      "text/plain": [
       "<IPython.core.display.HTML object>"
      ]
     },
     "metadata": {},
     "output_type": "display_data"
    }
   ],
   "source": [
    "IMAGES_NUMBER = 50\n",
    "landmarkId = train_data['landmark_id'].value_counts().keys()[5]\n",
    "urls = train_data[train_data['landmark_id'] == landmarkId]['url'].head(IMAGES_NUMBER)\n",
    "displayLandmarkImages(urls)"
   ]
  },
  {
   "cell_type": "code",
   "execution_count": 59,
   "metadata": {},
   "outputs": [
    {
     "data": {
      "text/html": [
       "<img style='height: 100px; margin: 2px; float: left; border: 1px solid blue;' src='http://lh3.ggpht.com/-KXyELwqwp_Q/Ry-qmQAqwUI/AAAAAAAAAoU/SUt6osy86xk/s1600/' /><img style='height: 100px; margin: 2px; float: left; border: 1px solid blue;' src='http://lh3.ggpht.com/-GtgCG7ZNNDw/TWWRUVMMpUI/AAAAAAAAC00/AUNX8bd957w/s1600/' /><img style='height: 100px; margin: 2px; float: left; border: 1px solid blue;' src='http://lh6.ggpht.com/-Xc0B_C_xpfc/RsIor9h8-SI/AAAAAAAABK0/d6gJYx06eKI/s1600/' /><img style='height: 100px; margin: 2px; float: left; border: 1px solid blue;' src='https://lh3.googleusercontent.com/-r7w0c7chrC8/TKvJKIyP-yI/AAAAAAAAAbE/G1GYmt5t-bg/s1600/' /><img style='height: 100px; margin: 2px; float: left; border: 1px solid blue;' src='https://lh6.googleusercontent.com/-WWD-eozFRkU/THaxcSSu-BI/AAAAAAAANfQ/T4H7_pXuo0A/s1600/' />"
      ],
      "text/plain": [
       "<IPython.core.display.HTML object>"
      ]
     },
     "metadata": {},
     "output_type": "display_data"
    },
    {
     "data": {
      "text/html": [
       "<img style='height: 100px; margin: 2px; float: left; border: 1px solid blue;' src='https://lh4.googleusercontent.com/-FyOb5-Gcr0w/RtHTeFsqTmI/AAAAAAAAATQ/87SnhEf1qPs/rj/' /><img style='height: 100px; margin: 2px; float: left; border: 1px solid blue;' src='https://lh3.googleusercontent.com/-5YMebjnziuE/S28CUIvPCtI/AAAAAAAAAYo/WvdsPdzKwek/s1600/' /><img style='height: 100px; margin: 2px; float: left; border: 1px solid blue;' src='http://lh4.ggpht.com/-LAV-AsnT5qY/S2-yzeNvHWI/AAAAAAAAYLM/8nbulMps3-I/s1600/' /><img style='height: 100px; margin: 2px; float: left; border: 1px solid blue;' src='https://lh5.googleusercontent.com/-1X_5_lAqZUk/RW5A_eGBABI/AAAAAAAABHs/iO72_sM2xZw/rj/' /><img style='height: 100px; margin: 2px; float: left; border: 1px solid blue;' src='http://lh5.ggpht.com/-28OeI3FRQ6c/TdLLJ8TD_SI/AAAAAAAADlU/OwU2Nfbw7hY/s1600/' />"
      ],
      "text/plain": [
       "<IPython.core.display.HTML object>"
      ]
     },
     "metadata": {},
     "output_type": "display_data"
    },
    {
     "data": {
      "text/html": [
       "<img style='height: 100px; margin: 2px; float: left; border: 1px solid blue;' src='http://lh6.ggpht.com/-cJMh9AYQGk8/SOkF_Q5PrjI/AAAAAAAACa4/YWapKF6Wwuo/s1600/' /><img style='height: 100px; margin: 2px; float: left; border: 1px solid blue;' src='https://lh6.googleusercontent.com/-Igkby7pShwQ/UJBVX-fe_1I/AAAAAAAAIi8/-I_ToGTrO7M/s1600/' /><img style='height: 100px; margin: 2px; float: left; border: 1px solid blue;' src='http://lh4.ggpht.com/-ZlBjh7XFBew/SO4S3WlsMwI/AAAAAAAABL0/85EPQlZ_kag/s1600/' /><img style='height: 100px; margin: 2px; float: left; border: 1px solid blue;' src='https://lh5.googleusercontent.com/-n2d_Lwqp0Uw/TkzWqcGXRbI/AAAAAAAAmm8/SGlxXfRln4c/s1600/' /><img style='height: 100px; margin: 2px; float: left; border: 1px solid blue;' src='http://lh6.ggpht.com/-ZJZZNMwjzTk/R4YYX9LY_1I/AAAAAAAAELk/6b7OEVBpf4c/s1600/' />"
      ],
      "text/plain": [
       "<IPython.core.display.HTML object>"
      ]
     },
     "metadata": {},
     "output_type": "display_data"
    },
    {
     "data": {
      "text/html": [
       "<img style='height: 100px; margin: 2px; float: left; border: 1px solid blue;' src='https://lh6.googleusercontent.com/-Rce5yTZScTw/S-QOcJyx0QI/AAAAAAAACb4/OXZeSkTXKUI/s1600/' /><img style='height: 100px; margin: 2px; float: left; border: 1px solid blue;' src='http://lh6.ggpht.com/-Cjz-UMi4O3s/TBMw9tRQVRI/AAAAAAAAI_I/kHsCbr875ao/s1600/' /><img style='height: 100px; margin: 2px; float: left; border: 1px solid blue;' src='http://lh6.ggpht.com/-tRyWn7-lRnI/SoEprFukckI/AAAAAAAAHMA/3EgpN0itwjU/s1600/' /><img style='height: 100px; margin: 2px; float: left; border: 1px solid blue;' src='http://lh6.ggpht.com/-c_wZ4JrL1lY/TnhGXwqSIKI/AAAAAAAAEt0/lCQnfMK0ff8/s1600/' /><img style='height: 100px; margin: 2px; float: left; border: 1px solid blue;' src='https://lh6.googleusercontent.com/-zTY3R363k1k/RuZDyC0XqbI/AAAAAAAAAE4/TgGUHAeEYGw/rj/' />"
      ],
      "text/plain": [
       "<IPython.core.display.HTML object>"
      ]
     },
     "metadata": {},
     "output_type": "display_data"
    },
    {
     "data": {
      "text/html": [
       "<img style='height: 100px; margin: 2px; float: left; border: 1px solid blue;' src='https://lh3.googleusercontent.com/-EpNtXQntMr0/TEBZNbQVRSI/AAAAAAAAAEM/uWSSD4_7TeA/s1600/' /><img style='height: 100px; margin: 2px; float: left; border: 1px solid blue;' src='http://lh5.ggpht.com/-6Wmb6BhrgBA/RYblKeg9KwI/AAAAAAAABl4/PWvTvwiHwGw/s1600/' /><img style='height: 100px; margin: 2px; float: left; border: 1px solid blue;' src='https://lh5.googleusercontent.com/-odJcL7Yisno/SIGXefDmX3I/AAAAAAAAAVk/hyzxGJZ-kbo/s1600/' /><img style='height: 100px; margin: 2px; float: left; border: 1px solid blue;' src='http://lh4.ggpht.com/-O3g8YoEouW0/Sru6bx818zI/AAAAAAAAF04/Q1uyrne5T1E/s1600/' /><img style='height: 100px; margin: 2px; float: left; border: 1px solid blue;' src='http://lh6.ggpht.com/-amq8SzD5TvI/SvosmRqKHFI/AAAAAAAAAJw/MHAVt2TBKXo/s1600/' />"
      ],
      "text/plain": [
       "<IPython.core.display.HTML object>"
      ]
     },
     "metadata": {},
     "output_type": "display_data"
    }
   ],
   "source": [
    "LANDMARK_NUMBER = 5\n",
    "IMAGES_NUMBER = 5\n",
    "landMarkIDs = pd.Series(train_data['landmark_id'].value_counts().keys())[1:LANDMARK_NUMBER+1]\n",
    "for landMarkID in landMarkIDs:\n",
    "    url = train_data[train_data['landmark_id'] == landMarkID]['url'].head(IMAGES_NUMBER)\n",
    "    displayLandmarkImagesLarge(url)"
   ]
  },
  {
   "cell_type": "code",
   "execution_count": null,
   "metadata": {},
   "outputs": [],
   "source": []
  }
 ],
 "metadata": {
  "kernelspec": {
   "display_name": "Python 3",
   "language": "python",
   "name": "python3"
  },
  "language_info": {
   "codemirror_mode": {
    "name": "ipython",
    "version": 3
   },
   "file_extension": ".py",
   "mimetype": "text/x-python",
   "name": "python",
   "nbconvert_exporter": "python",
   "pygments_lexer": "ipython3",
   "version": "3.6.3"
  }
 },
 "nbformat": 4,
 "nbformat_minor": 2
}
